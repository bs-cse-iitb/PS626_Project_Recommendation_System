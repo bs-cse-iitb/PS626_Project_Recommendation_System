{
 "cells": [
  {
   "cell_type": "markdown",
   "id": "a4396e38",
   "metadata": {},
   "source": [
    "## Importing Libraries"
   ]
  },
  {
   "cell_type": "code",
   "execution_count": 49,
   "id": "5452917e",
   "metadata": {},
   "outputs": [],
   "source": [
    "import numpy as np\n",
    "import pandas as pd\n",
    "\n",
    "# to dump model\n",
    "import pickle\n",
    "\n",
    "# to convert text into vector form\n",
    "from sklearn.feature_extraction.text import CountVectorizer\n",
    "\n",
    "# To calculate cosine similarity\n",
    "from sklearn.metrics.pairwise import cosine_similarity"
   ]
  },
  {
   "cell_type": "markdown",
   "id": "c9f14d0e",
   "metadata": {},
   "source": [
    "## Importing Dataset"
   ]
  },
  {
   "cell_type": "code",
   "execution_count": 50,
   "id": "bf1888da",
   "metadata": {},
   "outputs": [
    {
     "data": {
      "text/plain": [
       "(16744, 16)"
      ]
     },
     "execution_count": 50,
     "metadata": {},
     "output_type": "execute_result"
    }
   ],
   "source": [
    "path = \"Dataset/MoviesOnStreamingPlatforms_updated.csv\"\n",
    "df = pd.read_csv(path)\n",
    "\n",
    "df.shape"
   ]
  },
  {
   "cell_type": "markdown",
   "id": "7f866e43",
   "metadata": {},
   "source": [
    "## Exploratory Data Analysis"
   ]
  },
  {
   "cell_type": "code",
   "execution_count": 51,
   "id": "650c0707",
   "metadata": {},
   "outputs": [
    {
     "data": {
      "text/html": [
       "<div>\n",
       "<style scoped>\n",
       "    .dataframe tbody tr th:only-of-type {\n",
       "        vertical-align: middle;\n",
       "    }\n",
       "\n",
       "    .dataframe tbody tr th {\n",
       "        vertical-align: top;\n",
       "    }\n",
       "\n",
       "    .dataframe thead th {\n",
       "        text-align: right;\n",
       "    }\n",
       "</style>\n",
       "<table border=\"1\" class=\"dataframe\">\n",
       "  <thead>\n",
       "    <tr style=\"text-align: right;\">\n",
       "      <th></th>\n",
       "      <th>ID</th>\n",
       "      <th>Title</th>\n",
       "      <th>Year</th>\n",
       "      <th>Age</th>\n",
       "      <th>IMDb</th>\n",
       "      <th>Rotten Tomatoes</th>\n",
       "      <th>Netflix</th>\n",
       "      <th>Hulu</th>\n",
       "      <th>Prime Video</th>\n",
       "      <th>Disney+</th>\n",
       "      <th>Type</th>\n",
       "      <th>Directors</th>\n",
       "      <th>Genres</th>\n",
       "      <th>Country</th>\n",
       "      <th>Language</th>\n",
       "      <th>Runtime</th>\n",
       "    </tr>\n",
       "  </thead>\n",
       "  <tbody>\n",
       "    <tr>\n",
       "      <th>0</th>\n",
       "      <td>1</td>\n",
       "      <td>Inception</td>\n",
       "      <td>2010</td>\n",
       "      <td>13+</td>\n",
       "      <td>8.8</td>\n",
       "      <td>87%</td>\n",
       "      <td>1.0</td>\n",
       "      <td>0</td>\n",
       "      <td>0</td>\n",
       "      <td>0</td>\n",
       "      <td>0</td>\n",
       "      <td>Christopher Nolan</td>\n",
       "      <td>Action,Adventure,Sci-Fi,Thriller</td>\n",
       "      <td>United States,United Kingdom</td>\n",
       "      <td>English,Japanese,French</td>\n",
       "      <td>148.0</td>\n",
       "    </tr>\n",
       "    <tr>\n",
       "      <th>1</th>\n",
       "      <td>2</td>\n",
       "      <td>The Matrix</td>\n",
       "      <td>1999</td>\n",
       "      <td>18+</td>\n",
       "      <td>8.7</td>\n",
       "      <td>87%</td>\n",
       "      <td>1.0</td>\n",
       "      <td>0</td>\n",
       "      <td>0</td>\n",
       "      <td>0</td>\n",
       "      <td>0</td>\n",
       "      <td>Lana Wachowski,Lilly Wachowski</td>\n",
       "      <td>Action,Sci-Fi</td>\n",
       "      <td>United States</td>\n",
       "      <td>English</td>\n",
       "      <td>136.0</td>\n",
       "    </tr>\n",
       "    <tr>\n",
       "      <th>2</th>\n",
       "      <td>3</td>\n",
       "      <td>Avengers: Infinity War</td>\n",
       "      <td>2018</td>\n",
       "      <td>13+</td>\n",
       "      <td>8.5</td>\n",
       "      <td>84%</td>\n",
       "      <td>1.0</td>\n",
       "      <td>0</td>\n",
       "      <td>0</td>\n",
       "      <td>0</td>\n",
       "      <td>0</td>\n",
       "      <td>Anthony Russo,Joe Russo</td>\n",
       "      <td>Action,Adventure,Sci-Fi</td>\n",
       "      <td>United States</td>\n",
       "      <td>English</td>\n",
       "      <td>149.0</td>\n",
       "    </tr>\n",
       "    <tr>\n",
       "      <th>3</th>\n",
       "      <td>4</td>\n",
       "      <td>Back to the Future</td>\n",
       "      <td>1985</td>\n",
       "      <td>7+</td>\n",
       "      <td>8.5</td>\n",
       "      <td>96%</td>\n",
       "      <td>1.0</td>\n",
       "      <td>0</td>\n",
       "      <td>0</td>\n",
       "      <td>0</td>\n",
       "      <td>0</td>\n",
       "      <td>Robert Zemeckis</td>\n",
       "      <td>Adventure,Comedy,Sci-Fi</td>\n",
       "      <td>United States</td>\n",
       "      <td>English</td>\n",
       "      <td>116.0</td>\n",
       "    </tr>\n",
       "    <tr>\n",
       "      <th>4</th>\n",
       "      <td>5</td>\n",
       "      <td>The Good, the Bad and the Ugly</td>\n",
       "      <td>1966</td>\n",
       "      <td>18+</td>\n",
       "      <td>8.8</td>\n",
       "      <td>97%</td>\n",
       "      <td>1.0</td>\n",
       "      <td>0</td>\n",
       "      <td>1</td>\n",
       "      <td>0</td>\n",
       "      <td>0</td>\n",
       "      <td>Sergio Leone</td>\n",
       "      <td>Western</td>\n",
       "      <td>Italy,Spain,West Germany</td>\n",
       "      <td>Italian</td>\n",
       "      <td>161.0</td>\n",
       "    </tr>\n",
       "  </tbody>\n",
       "</table>\n",
       "</div>"
      ],
      "text/plain": [
       "   ID                           Title  Year  Age  IMDb Rotten Tomatoes  \\\n",
       "0   1                       Inception  2010  13+   8.8             87%   \n",
       "1   2                      The Matrix  1999  18+   8.7             87%   \n",
       "2   3          Avengers: Infinity War  2018  13+   8.5             84%   \n",
       "3   4              Back to the Future  1985   7+   8.5             96%   \n",
       "4   5  The Good, the Bad and the Ugly  1966  18+   8.8             97%   \n",
       "\n",
       "   Netflix  Hulu  Prime Video  Disney+  Type                       Directors  \\\n",
       "0      1.0     0            0        0     0               Christopher Nolan   \n",
       "1      1.0     0            0        0     0  Lana Wachowski,Lilly Wachowski   \n",
       "2      1.0     0            0        0     0         Anthony Russo,Joe Russo   \n",
       "3      1.0     0            0        0     0                 Robert Zemeckis   \n",
       "4      1.0     0            1        0     0                    Sergio Leone   \n",
       "\n",
       "                             Genres                       Country  \\\n",
       "0  Action,Adventure,Sci-Fi,Thriller  United States,United Kingdom   \n",
       "1                     Action,Sci-Fi                 United States   \n",
       "2           Action,Adventure,Sci-Fi                 United States   \n",
       "3           Adventure,Comedy,Sci-Fi                 United States   \n",
       "4                           Western      Italy,Spain,West Germany   \n",
       "\n",
       "                  Language  Runtime  \n",
       "0  English,Japanese,French    148.0  \n",
       "1                  English    136.0  \n",
       "2                  English    149.0  \n",
       "3                  English    116.0  \n",
       "4                  Italian    161.0  "
      ]
     },
     "execution_count": 51,
     "metadata": {},
     "output_type": "execute_result"
    }
   ],
   "source": [
    "df.head()"
   ]
  },
  {
   "cell_type": "code",
   "execution_count": 52,
   "id": "1e7cabc6",
   "metadata": {},
   "outputs": [
    {
     "name": "stdout",
     "output_type": "stream",
     "text": [
      "Index(['ID', 'Title', 'Year', 'Age', 'IMDb', 'Rotten Tomatoes', 'Netflix',\n",
      "       'Hulu', 'Prime Video', 'Disney+', 'Type', 'Directors', 'Genres',\n",
      "       'Country', 'Language', 'Runtime'],\n",
      "      dtype='object')\n"
     ]
    }
   ],
   "source": [
    "# Columns Description \n",
    "print(df.columns)"
   ]
  },
  {
   "cell_type": "code",
   "execution_count": 53,
   "id": "68ffefce",
   "metadata": {},
   "outputs": [
    {
     "name": "stdout",
     "output_type": "stream",
     "text": [
      "<class 'pandas.core.frame.DataFrame'>\n",
      "RangeIndex: 16744 entries, 0 to 16743\n",
      "Data columns (total 16 columns):\n",
      " #   Column           Non-Null Count  Dtype  \n",
      "---  ------           --------------  -----  \n",
      " 0   ID               16744 non-null  int64  \n",
      " 1   Title            16744 non-null  object \n",
      " 2   Year             16744 non-null  int64  \n",
      " 3   Age              7354 non-null   object \n",
      " 4   IMDb             16173 non-null  float64\n",
      " 5   Rotten Tomatoes  5158 non-null   object \n",
      " 6   Netflix          16744 non-null  float64\n",
      " 7   Hulu             16744 non-null  int64  \n",
      " 8   Prime Video      16744 non-null  int64  \n",
      " 9   Disney+          16744 non-null  int64  \n",
      " 10  Type             16744 non-null  int64  \n",
      " 11  Directors        16018 non-null  object \n",
      " 12  Genres           16469 non-null  object \n",
      " 13  Country          16309 non-null  object \n",
      " 14  Language         16145 non-null  object \n",
      " 15  Runtime          16152 non-null  float64\n",
      "dtypes: float64(3), int64(6), object(7)\n",
      "memory usage: 2.0+ MB\n"
     ]
    }
   ],
   "source": [
    "df.info()"
   ]
  },
  {
   "cell_type": "code",
   "execution_count": 54,
   "id": "2bab9608",
   "metadata": {},
   "outputs": [],
   "source": [
    "# Important features\n",
    "# ['id','Title','Generes','Director','Country','Language']"
   ]
  },
  {
   "cell_type": "code",
   "execution_count": 55,
   "id": "7c7f8687",
   "metadata": {},
   "outputs": [],
   "source": [
    "df2 = df[['ID','Title','Genres','Directors','Country','Language']]"
   ]
  },
  {
   "cell_type": "code",
   "execution_count": 56,
   "id": "09534cfe",
   "metadata": {},
   "outputs": [
    {
     "data": {
      "text/html": [
       "<div>\n",
       "<style scoped>\n",
       "    .dataframe tbody tr th:only-of-type {\n",
       "        vertical-align: middle;\n",
       "    }\n",
       "\n",
       "    .dataframe tbody tr th {\n",
       "        vertical-align: top;\n",
       "    }\n",
       "\n",
       "    .dataframe thead th {\n",
       "        text-align: right;\n",
       "    }\n",
       "</style>\n",
       "<table border=\"1\" class=\"dataframe\">\n",
       "  <thead>\n",
       "    <tr style=\"text-align: right;\">\n",
       "      <th></th>\n",
       "      <th>ID</th>\n",
       "      <th>Title</th>\n",
       "      <th>Genres</th>\n",
       "      <th>Directors</th>\n",
       "      <th>Country</th>\n",
       "      <th>Language</th>\n",
       "    </tr>\n",
       "  </thead>\n",
       "  <tbody>\n",
       "    <tr>\n",
       "      <th>0</th>\n",
       "      <td>1</td>\n",
       "      <td>Inception</td>\n",
       "      <td>Action,Adventure,Sci-Fi,Thriller</td>\n",
       "      <td>Christopher Nolan</td>\n",
       "      <td>United States,United Kingdom</td>\n",
       "      <td>English,Japanese,French</td>\n",
       "    </tr>\n",
       "    <tr>\n",
       "      <th>1</th>\n",
       "      <td>2</td>\n",
       "      <td>The Matrix</td>\n",
       "      <td>Action,Sci-Fi</td>\n",
       "      <td>Lana Wachowski,Lilly Wachowski</td>\n",
       "      <td>United States</td>\n",
       "      <td>English</td>\n",
       "    </tr>\n",
       "    <tr>\n",
       "      <th>2</th>\n",
       "      <td>3</td>\n",
       "      <td>Avengers: Infinity War</td>\n",
       "      <td>Action,Adventure,Sci-Fi</td>\n",
       "      <td>Anthony Russo,Joe Russo</td>\n",
       "      <td>United States</td>\n",
       "      <td>English</td>\n",
       "    </tr>\n",
       "    <tr>\n",
       "      <th>3</th>\n",
       "      <td>4</td>\n",
       "      <td>Back to the Future</td>\n",
       "      <td>Adventure,Comedy,Sci-Fi</td>\n",
       "      <td>Robert Zemeckis</td>\n",
       "      <td>United States</td>\n",
       "      <td>English</td>\n",
       "    </tr>\n",
       "    <tr>\n",
       "      <th>4</th>\n",
       "      <td>5</td>\n",
       "      <td>The Good, the Bad and the Ugly</td>\n",
       "      <td>Western</td>\n",
       "      <td>Sergio Leone</td>\n",
       "      <td>Italy,Spain,West Germany</td>\n",
       "      <td>Italian</td>\n",
       "    </tr>\n",
       "  </tbody>\n",
       "</table>\n",
       "</div>"
      ],
      "text/plain": [
       "   ID                           Title                            Genres  \\\n",
       "0   1                       Inception  Action,Adventure,Sci-Fi,Thriller   \n",
       "1   2                      The Matrix                     Action,Sci-Fi   \n",
       "2   3          Avengers: Infinity War           Action,Adventure,Sci-Fi   \n",
       "3   4              Back to the Future           Adventure,Comedy,Sci-Fi   \n",
       "4   5  The Good, the Bad and the Ugly                           Western   \n",
       "\n",
       "                        Directors                       Country  \\\n",
       "0               Christopher Nolan  United States,United Kingdom   \n",
       "1  Lana Wachowski,Lilly Wachowski                 United States   \n",
       "2         Anthony Russo,Joe Russo                 United States   \n",
       "3                 Robert Zemeckis                 United States   \n",
       "4                    Sergio Leone      Italy,Spain,West Germany   \n",
       "\n",
       "                  Language  \n",
       "0  English,Japanese,French  \n",
       "1                  English  \n",
       "2                  English  \n",
       "3                  English  \n",
       "4                  Italian  "
      ]
     },
     "execution_count": 56,
     "metadata": {},
     "output_type": "execute_result"
    }
   ],
   "source": [
    "df2.head()"
   ]
  },
  {
   "cell_type": "code",
   "execution_count": 57,
   "id": "8eb6f1e1",
   "metadata": {},
   "outputs": [
    {
     "data": {
      "text/html": [
       "<div>\n",
       "<style scoped>\n",
       "    .dataframe tbody tr th:only-of-type {\n",
       "        vertical-align: middle;\n",
       "    }\n",
       "\n",
       "    .dataframe tbody tr th {\n",
       "        vertical-align: top;\n",
       "    }\n",
       "\n",
       "    .dataframe thead th {\n",
       "        text-align: right;\n",
       "    }\n",
       "</style>\n",
       "<table border=\"1\" class=\"dataframe\">\n",
       "  <thead>\n",
       "    <tr style=\"text-align: right;\">\n",
       "      <th></th>\n",
       "      <th>ID</th>\n",
       "    </tr>\n",
       "  </thead>\n",
       "  <tbody>\n",
       "    <tr>\n",
       "      <th>count</th>\n",
       "      <td>16744.000000</td>\n",
       "    </tr>\n",
       "    <tr>\n",
       "      <th>mean</th>\n",
       "      <td>8372.500000</td>\n",
       "    </tr>\n",
       "    <tr>\n",
       "      <th>std</th>\n",
       "      <td>4833.720789</td>\n",
       "    </tr>\n",
       "    <tr>\n",
       "      <th>min</th>\n",
       "      <td>1.000000</td>\n",
       "    </tr>\n",
       "    <tr>\n",
       "      <th>25%</th>\n",
       "      <td>4186.750000</td>\n",
       "    </tr>\n",
       "    <tr>\n",
       "      <th>50%</th>\n",
       "      <td>8372.500000</td>\n",
       "    </tr>\n",
       "    <tr>\n",
       "      <th>75%</th>\n",
       "      <td>12558.250000</td>\n",
       "    </tr>\n",
       "    <tr>\n",
       "      <th>max</th>\n",
       "      <td>16744.000000</td>\n",
       "    </tr>\n",
       "  </tbody>\n",
       "</table>\n",
       "</div>"
      ],
      "text/plain": [
       "                 ID\n",
       "count  16744.000000\n",
       "mean    8372.500000\n",
       "std     4833.720789\n",
       "min        1.000000\n",
       "25%     4186.750000\n",
       "50%     8372.500000\n",
       "75%    12558.250000\n",
       "max    16744.000000"
      ]
     },
     "execution_count": 57,
     "metadata": {},
     "output_type": "execute_result"
    }
   ],
   "source": [
    "df2.describe()"
   ]
  },
  {
   "cell_type": "markdown",
   "id": "68db2a72",
   "metadata": {},
   "source": []
  },
  {
   "cell_type": "code",
   "execution_count": 58,
   "id": "3953a7ac",
   "metadata": {},
   "outputs": [
    {
     "name": "stdout",
     "output_type": "stream",
     "text": [
      "(16744, 6)\n"
     ]
    },
    {
     "data": {
      "text/plain": [
       "ID             0\n",
       "Title          0\n",
       "Genres       275\n",
       "Directors    726\n",
       "Country      435\n",
       "Language     599\n",
       "dtype: int64"
      ]
     },
     "execution_count": 58,
     "metadata": {},
     "output_type": "execute_result"
    }
   ],
   "source": [
    "# Remove Null values\n",
    "print(df2.shape)\n",
    "df2.isnull().sum()"
   ]
  },
  {
   "cell_type": "code",
   "execution_count": 59,
   "id": "dc81d283",
   "metadata": {},
   "outputs": [
    {
     "name": "stdout",
     "output_type": "stream",
     "text": [
      "(15677, 6)\n"
     ]
    },
    {
     "data": {
      "text/plain": [
       "ID           0\n",
       "Title        0\n",
       "Genres       0\n",
       "Directors    0\n",
       "Country      0\n",
       "Language     0\n",
       "dtype: int64"
      ]
     },
     "execution_count": 59,
     "metadata": {},
     "output_type": "execute_result"
    }
   ],
   "source": [
    "df2 = df2.dropna()\n",
    "print(df2.shape)\n",
    "df2.isnull().sum()"
   ]
  },
  {
   "cell_type": "code",
   "execution_count": 60,
   "id": "dac6d50c",
   "metadata": {},
   "outputs": [
    {
     "data": {
      "text/plain": [
       "0"
      ]
     },
     "execution_count": 60,
     "metadata": {},
     "output_type": "execute_result"
    }
   ],
   "source": [
    "df2.duplicated().sum()"
   ]
  },
  {
   "cell_type": "code",
   "execution_count": 61,
   "id": "ece4e1b4",
   "metadata": {},
   "outputs": [
    {
     "data": {
      "text/html": [
       "<div>\n",
       "<style scoped>\n",
       "    .dataframe tbody tr th:only-of-type {\n",
       "        vertical-align: middle;\n",
       "    }\n",
       "\n",
       "    .dataframe tbody tr th {\n",
       "        vertical-align: top;\n",
       "    }\n",
       "\n",
       "    .dataframe thead th {\n",
       "        text-align: right;\n",
       "    }\n",
       "</style>\n",
       "<table border=\"1\" class=\"dataframe\">\n",
       "  <thead>\n",
       "    <tr style=\"text-align: right;\">\n",
       "      <th></th>\n",
       "      <th>ID</th>\n",
       "      <th>Title</th>\n",
       "      <th>Genres</th>\n",
       "      <th>Directors</th>\n",
       "      <th>Country</th>\n",
       "      <th>Language</th>\n",
       "    </tr>\n",
       "  </thead>\n",
       "  <tbody>\n",
       "    <tr>\n",
       "      <th>0</th>\n",
       "      <td>1</td>\n",
       "      <td>Inception</td>\n",
       "      <td>Action,Adventure,Sci-Fi,Thriller</td>\n",
       "      <td>Christopher Nolan</td>\n",
       "      <td>United States,United Kingdom</td>\n",
       "      <td>English,Japanese,French</td>\n",
       "    </tr>\n",
       "    <tr>\n",
       "      <th>1</th>\n",
       "      <td>2</td>\n",
       "      <td>The Matrix</td>\n",
       "      <td>Action,Sci-Fi</td>\n",
       "      <td>Lana Wachowski,Lilly Wachowski</td>\n",
       "      <td>United States</td>\n",
       "      <td>English</td>\n",
       "    </tr>\n",
       "    <tr>\n",
       "      <th>2</th>\n",
       "      <td>3</td>\n",
       "      <td>Avengers: Infinity War</td>\n",
       "      <td>Action,Adventure,Sci-Fi</td>\n",
       "      <td>Anthony Russo,Joe Russo</td>\n",
       "      <td>United States</td>\n",
       "      <td>English</td>\n",
       "    </tr>\n",
       "    <tr>\n",
       "      <th>3</th>\n",
       "      <td>4</td>\n",
       "      <td>Back to the Future</td>\n",
       "      <td>Adventure,Comedy,Sci-Fi</td>\n",
       "      <td>Robert Zemeckis</td>\n",
       "      <td>United States</td>\n",
       "      <td>English</td>\n",
       "    </tr>\n",
       "    <tr>\n",
       "      <th>4</th>\n",
       "      <td>5</td>\n",
       "      <td>The Good, the Bad and the Ugly</td>\n",
       "      <td>Western</td>\n",
       "      <td>Sergio Leone</td>\n",
       "      <td>Italy,Spain,West Germany</td>\n",
       "      <td>Italian</td>\n",
       "    </tr>\n",
       "  </tbody>\n",
       "</table>\n",
       "</div>"
      ],
      "text/plain": [
       "   ID                           Title                            Genres  \\\n",
       "0   1                       Inception  Action,Adventure,Sci-Fi,Thriller   \n",
       "1   2                      The Matrix                     Action,Sci-Fi   \n",
       "2   3          Avengers: Infinity War           Action,Adventure,Sci-Fi   \n",
       "3   4              Back to the Future           Adventure,Comedy,Sci-Fi   \n",
       "4   5  The Good, the Bad and the Ugly                           Western   \n",
       "\n",
       "                        Directors                       Country  \\\n",
       "0               Christopher Nolan  United States,United Kingdom   \n",
       "1  Lana Wachowski,Lilly Wachowski                 United States   \n",
       "2         Anthony Russo,Joe Russo                 United States   \n",
       "3                 Robert Zemeckis                 United States   \n",
       "4                    Sergio Leone      Italy,Spain,West Germany   \n",
       "\n",
       "                  Language  \n",
       "0  English,Japanese,French  \n",
       "1                  English  \n",
       "2                  English  \n",
       "3                  English  \n",
       "4                  Italian  "
      ]
     },
     "execution_count": 61,
     "metadata": {},
     "output_type": "execute_result"
    }
   ],
   "source": [
    "df2.head()"
   ]
  },
  {
   "cell_type": "code",
   "execution_count": null,
   "id": "dc350e2b",
   "metadata": {},
   "outputs": [],
   "source": []
  },
  {
   "cell_type": "code",
   "execution_count": 62,
   "id": "cf9a2d91",
   "metadata": {},
   "outputs": [],
   "source": [
    "# Split at comma and space\n",
    "def split_at_comma(string):\n",
    "    return string.split(\",\")\n",
    "def split_at_space(string):\n",
    "    return string.split(\" \")"
   ]
  },
  {
   "cell_type": "code",
   "execution_count": 63,
   "id": "960e0080",
   "metadata": {},
   "outputs": [
    {
     "data": {
      "text/plain": [
       "['The', 'Matrix']"
      ]
     },
     "execution_count": 63,
     "metadata": {},
     "output_type": "execute_result"
    }
   ],
   "source": [
    "split_at_comma('Action,Adventure,Sci-Fi,Thriller')\n",
    "split_at_space(\"The Matrix\")"
   ]
  },
  {
   "cell_type": "code",
   "execution_count": 64,
   "id": "11ed5cf1",
   "metadata": {},
   "outputs": [],
   "source": [
    "df2['Genres'] = df2['Genres'].apply(split_at_comma)\n",
    "df2[\"Directors\"] = df2['Directors'].apply(split_at_comma)\n",
    "df2[\"Country\"] = df2['Country'].apply(split_at_comma)\n",
    "df2[\"Language\"] = df2['Language'].apply(split_at_comma)"
   ]
  },
  {
   "cell_type": "code",
   "execution_count": 65,
   "id": "5c43d828",
   "metadata": {},
   "outputs": [],
   "source": [
    "df2['Title_feature']=df2['Title']\n",
    "df2[\"Title_feature\"] = df2['Title_feature'].apply(split_at_space)"
   ]
  },
  {
   "cell_type": "code",
   "execution_count": 66,
   "id": "d50cdb5f",
   "metadata": {},
   "outputs": [
    {
     "data": {
      "text/html": [
       "<div>\n",
       "<style scoped>\n",
       "    .dataframe tbody tr th:only-of-type {\n",
       "        vertical-align: middle;\n",
       "    }\n",
       "\n",
       "    .dataframe tbody tr th {\n",
       "        vertical-align: top;\n",
       "    }\n",
       "\n",
       "    .dataframe thead th {\n",
       "        text-align: right;\n",
       "    }\n",
       "</style>\n",
       "<table border=\"1\" class=\"dataframe\">\n",
       "  <thead>\n",
       "    <tr style=\"text-align: right;\">\n",
       "      <th></th>\n",
       "      <th>ID</th>\n",
       "      <th>Title</th>\n",
       "      <th>Genres</th>\n",
       "      <th>Directors</th>\n",
       "      <th>Country</th>\n",
       "      <th>Language</th>\n",
       "      <th>Title_feature</th>\n",
       "    </tr>\n",
       "  </thead>\n",
       "  <tbody>\n",
       "    <tr>\n",
       "      <th>0</th>\n",
       "      <td>1</td>\n",
       "      <td>Inception</td>\n",
       "      <td>[Action, Adventure, Sci-Fi, Thriller]</td>\n",
       "      <td>[Christopher Nolan]</td>\n",
       "      <td>[United States, United Kingdom]</td>\n",
       "      <td>[English, Japanese, French]</td>\n",
       "      <td>[Inception]</td>\n",
       "    </tr>\n",
       "    <tr>\n",
       "      <th>1</th>\n",
       "      <td>2</td>\n",
       "      <td>The Matrix</td>\n",
       "      <td>[Action, Sci-Fi]</td>\n",
       "      <td>[Lana Wachowski, Lilly Wachowski]</td>\n",
       "      <td>[United States]</td>\n",
       "      <td>[English]</td>\n",
       "      <td>[The, Matrix]</td>\n",
       "    </tr>\n",
       "    <tr>\n",
       "      <th>2</th>\n",
       "      <td>3</td>\n",
       "      <td>Avengers: Infinity War</td>\n",
       "      <td>[Action, Adventure, Sci-Fi]</td>\n",
       "      <td>[Anthony Russo, Joe Russo]</td>\n",
       "      <td>[United States]</td>\n",
       "      <td>[English]</td>\n",
       "      <td>[Avengers:, Infinity, War]</td>\n",
       "    </tr>\n",
       "    <tr>\n",
       "      <th>3</th>\n",
       "      <td>4</td>\n",
       "      <td>Back to the Future</td>\n",
       "      <td>[Adventure, Comedy, Sci-Fi]</td>\n",
       "      <td>[Robert Zemeckis]</td>\n",
       "      <td>[United States]</td>\n",
       "      <td>[English]</td>\n",
       "      <td>[Back, to, the, Future]</td>\n",
       "    </tr>\n",
       "    <tr>\n",
       "      <th>4</th>\n",
       "      <td>5</td>\n",
       "      <td>The Good, the Bad and the Ugly</td>\n",
       "      <td>[Western]</td>\n",
       "      <td>[Sergio Leone]</td>\n",
       "      <td>[Italy, Spain, West Germany]</td>\n",
       "      <td>[Italian]</td>\n",
       "      <td>[The, Good,, the, Bad, and, the, Ugly]</td>\n",
       "    </tr>\n",
       "    <tr>\n",
       "      <th>...</th>\n",
       "      <td>...</td>\n",
       "      <td>...</td>\n",
       "      <td>...</td>\n",
       "      <td>...</td>\n",
       "      <td>...</td>\n",
       "      <td>...</td>\n",
       "      <td>...</td>\n",
       "    </tr>\n",
       "    <tr>\n",
       "      <th>16739</th>\n",
       "      <td>16740</td>\n",
       "      <td>The Ghosts of Buxley Hall</td>\n",
       "      <td>[Comedy, Family, Fantasy, Horror]</td>\n",
       "      <td>[Bruce Bilson]</td>\n",
       "      <td>[United States]</td>\n",
       "      <td>[English]</td>\n",
       "      <td>[The, Ghosts, of, Buxley, Hall]</td>\n",
       "    </tr>\n",
       "    <tr>\n",
       "      <th>16740</th>\n",
       "      <td>16741</td>\n",
       "      <td>The Poof Point</td>\n",
       "      <td>[Comedy, Family, Sci-Fi]</td>\n",
       "      <td>[Neal Israel]</td>\n",
       "      <td>[United States]</td>\n",
       "      <td>[English]</td>\n",
       "      <td>[The, Poof, Point]</td>\n",
       "    </tr>\n",
       "    <tr>\n",
       "      <th>16741</th>\n",
       "      <td>16742</td>\n",
       "      <td>Sharks of Lost Island</td>\n",
       "      <td>[Documentary]</td>\n",
       "      <td>[Neil Gelinas]</td>\n",
       "      <td>[United States]</td>\n",
       "      <td>[English]</td>\n",
       "      <td>[Sharks, of, Lost, Island]</td>\n",
       "    </tr>\n",
       "    <tr>\n",
       "      <th>16742</th>\n",
       "      <td>16743</td>\n",
       "      <td>Man Among Cheetahs</td>\n",
       "      <td>[Documentary]</td>\n",
       "      <td>[Richard Slater-Jones]</td>\n",
       "      <td>[United States]</td>\n",
       "      <td>[English]</td>\n",
       "      <td>[Man, Among, Cheetahs]</td>\n",
       "    </tr>\n",
       "    <tr>\n",
       "      <th>16743</th>\n",
       "      <td>16744</td>\n",
       "      <td>In Beaver Valley</td>\n",
       "      <td>[Documentary, Short, Family]</td>\n",
       "      <td>[James Algar]</td>\n",
       "      <td>[United States]</td>\n",
       "      <td>[English]</td>\n",
       "      <td>[In, Beaver, Valley]</td>\n",
       "    </tr>\n",
       "  </tbody>\n",
       "</table>\n",
       "<p>15677 rows × 7 columns</p>\n",
       "</div>"
      ],
      "text/plain": [
       "          ID                           Title  \\\n",
       "0          1                       Inception   \n",
       "1          2                      The Matrix   \n",
       "2          3          Avengers: Infinity War   \n",
       "3          4              Back to the Future   \n",
       "4          5  The Good, the Bad and the Ugly   \n",
       "...      ...                             ...   \n",
       "16739  16740       The Ghosts of Buxley Hall   \n",
       "16740  16741                  The Poof Point   \n",
       "16741  16742           Sharks of Lost Island   \n",
       "16742  16743              Man Among Cheetahs   \n",
       "16743  16744                In Beaver Valley   \n",
       "\n",
       "                                      Genres  \\\n",
       "0      [Action, Adventure, Sci-Fi, Thriller]   \n",
       "1                           [Action, Sci-Fi]   \n",
       "2                [Action, Adventure, Sci-Fi]   \n",
       "3                [Adventure, Comedy, Sci-Fi]   \n",
       "4                                  [Western]   \n",
       "...                                      ...   \n",
       "16739      [Comedy, Family, Fantasy, Horror]   \n",
       "16740               [Comedy, Family, Sci-Fi]   \n",
       "16741                          [Documentary]   \n",
       "16742                          [Documentary]   \n",
       "16743           [Documentary, Short, Family]   \n",
       "\n",
       "                               Directors                          Country  \\\n",
       "0                    [Christopher Nolan]  [United States, United Kingdom]   \n",
       "1      [Lana Wachowski, Lilly Wachowski]                  [United States]   \n",
       "2             [Anthony Russo, Joe Russo]                  [United States]   \n",
       "3                      [Robert Zemeckis]                  [United States]   \n",
       "4                         [Sergio Leone]     [Italy, Spain, West Germany]   \n",
       "...                                  ...                              ...   \n",
       "16739                     [Bruce Bilson]                  [United States]   \n",
       "16740                      [Neal Israel]                  [United States]   \n",
       "16741                     [Neil Gelinas]                  [United States]   \n",
       "16742             [Richard Slater-Jones]                  [United States]   \n",
       "16743                      [James Algar]                  [United States]   \n",
       "\n",
       "                          Language                           Title_feature  \n",
       "0      [English, Japanese, French]                             [Inception]  \n",
       "1                        [English]                           [The, Matrix]  \n",
       "2                        [English]              [Avengers:, Infinity, War]  \n",
       "3                        [English]                 [Back, to, the, Future]  \n",
       "4                        [Italian]  [The, Good,, the, Bad, and, the, Ugly]  \n",
       "...                            ...                                     ...  \n",
       "16739                    [English]         [The, Ghosts, of, Buxley, Hall]  \n",
       "16740                    [English]                      [The, Poof, Point]  \n",
       "16741                    [English]              [Sharks, of, Lost, Island]  \n",
       "16742                    [English]                  [Man, Among, Cheetahs]  \n",
       "16743                    [English]                    [In, Beaver, Valley]  \n",
       "\n",
       "[15677 rows x 7 columns]"
      ]
     },
     "execution_count": 66,
     "metadata": {},
     "output_type": "execute_result"
    }
   ],
   "source": [
    "df2"
   ]
  },
  {
   "cell_type": "code",
   "execution_count": 67,
   "id": "fa601a62",
   "metadata": {},
   "outputs": [],
   "source": [
    "def remove_space(string_array):\n",
    "    lst = []\n",
    "    for i in string_array:\n",
    "        lst.append(i.replace(\" \", \"\"))\n",
    "    return lst  "
   ]
  },
  {
   "cell_type": "code",
   "execution_count": 68,
   "id": "95ac7c0e",
   "metadata": {},
   "outputs": [
    {
     "data": {
      "text/plain": [
       "['gghghgghjhh', 'wejlfnwekjfjwek']"
      ]
     },
     "execution_count": 68,
     "metadata": {},
     "output_type": "execute_result"
    }
   ],
   "source": [
    "remove_space([\"gghghgg hjhh\",\"wejlfnwe kjfjwek\"])"
   ]
  },
  {
   "cell_type": "code",
   "execution_count": 69,
   "id": "5a4d819a",
   "metadata": {},
   "outputs": [],
   "source": [
    "df2[\"Genres\"] = df2['Genres'].apply(remove_space)\n",
    "df2[\"Directors\"] = df2['Directors'].apply(remove_space)\n",
    "df2[\"Country\"] = df2['Country'].apply(remove_space)\n",
    "df2[\"Language\"] = df2['Language'].apply(remove_space)"
   ]
  },
  {
   "cell_type": "code",
   "execution_count": 70,
   "id": "6ca4b088",
   "metadata": {},
   "outputs": [
    {
     "data": {
      "text/html": [
       "<div>\n",
       "<style scoped>\n",
       "    .dataframe tbody tr th:only-of-type {\n",
       "        vertical-align: middle;\n",
       "    }\n",
       "\n",
       "    .dataframe tbody tr th {\n",
       "        vertical-align: top;\n",
       "    }\n",
       "\n",
       "    .dataframe thead th {\n",
       "        text-align: right;\n",
       "    }\n",
       "</style>\n",
       "<table border=\"1\" class=\"dataframe\">\n",
       "  <thead>\n",
       "    <tr style=\"text-align: right;\">\n",
       "      <th></th>\n",
       "      <th>ID</th>\n",
       "      <th>Title</th>\n",
       "      <th>Genres</th>\n",
       "      <th>Directors</th>\n",
       "      <th>Country</th>\n",
       "      <th>Language</th>\n",
       "      <th>Title_feature</th>\n",
       "    </tr>\n",
       "  </thead>\n",
       "  <tbody>\n",
       "    <tr>\n",
       "      <th>0</th>\n",
       "      <td>1</td>\n",
       "      <td>Inception</td>\n",
       "      <td>[Action, Adventure, Sci-Fi, Thriller]</td>\n",
       "      <td>[ChristopherNolan]</td>\n",
       "      <td>[UnitedStates, UnitedKingdom]</td>\n",
       "      <td>[English, Japanese, French]</td>\n",
       "      <td>[Inception]</td>\n",
       "    </tr>\n",
       "    <tr>\n",
       "      <th>1</th>\n",
       "      <td>2</td>\n",
       "      <td>The Matrix</td>\n",
       "      <td>[Action, Sci-Fi]</td>\n",
       "      <td>[LanaWachowski, LillyWachowski]</td>\n",
       "      <td>[UnitedStates]</td>\n",
       "      <td>[English]</td>\n",
       "      <td>[The, Matrix]</td>\n",
       "    </tr>\n",
       "    <tr>\n",
       "      <th>2</th>\n",
       "      <td>3</td>\n",
       "      <td>Avengers: Infinity War</td>\n",
       "      <td>[Action, Adventure, Sci-Fi]</td>\n",
       "      <td>[AnthonyRusso, JoeRusso]</td>\n",
       "      <td>[UnitedStates]</td>\n",
       "      <td>[English]</td>\n",
       "      <td>[Avengers:, Infinity, War]</td>\n",
       "    </tr>\n",
       "    <tr>\n",
       "      <th>3</th>\n",
       "      <td>4</td>\n",
       "      <td>Back to the Future</td>\n",
       "      <td>[Adventure, Comedy, Sci-Fi]</td>\n",
       "      <td>[RobertZemeckis]</td>\n",
       "      <td>[UnitedStates]</td>\n",
       "      <td>[English]</td>\n",
       "      <td>[Back, to, the, Future]</td>\n",
       "    </tr>\n",
       "    <tr>\n",
       "      <th>4</th>\n",
       "      <td>5</td>\n",
       "      <td>The Good, the Bad and the Ugly</td>\n",
       "      <td>[Western]</td>\n",
       "      <td>[SergioLeone]</td>\n",
       "      <td>[Italy, Spain, WestGermany]</td>\n",
       "      <td>[Italian]</td>\n",
       "      <td>[The, Good,, the, Bad, and, the, Ugly]</td>\n",
       "    </tr>\n",
       "    <tr>\n",
       "      <th>...</th>\n",
       "      <td>...</td>\n",
       "      <td>...</td>\n",
       "      <td>...</td>\n",
       "      <td>...</td>\n",
       "      <td>...</td>\n",
       "      <td>...</td>\n",
       "      <td>...</td>\n",
       "    </tr>\n",
       "    <tr>\n",
       "      <th>16739</th>\n",
       "      <td>16740</td>\n",
       "      <td>The Ghosts of Buxley Hall</td>\n",
       "      <td>[Comedy, Family, Fantasy, Horror]</td>\n",
       "      <td>[BruceBilson]</td>\n",
       "      <td>[UnitedStates]</td>\n",
       "      <td>[English]</td>\n",
       "      <td>[The, Ghosts, of, Buxley, Hall]</td>\n",
       "    </tr>\n",
       "    <tr>\n",
       "      <th>16740</th>\n",
       "      <td>16741</td>\n",
       "      <td>The Poof Point</td>\n",
       "      <td>[Comedy, Family, Sci-Fi]</td>\n",
       "      <td>[NealIsrael]</td>\n",
       "      <td>[UnitedStates]</td>\n",
       "      <td>[English]</td>\n",
       "      <td>[The, Poof, Point]</td>\n",
       "    </tr>\n",
       "    <tr>\n",
       "      <th>16741</th>\n",
       "      <td>16742</td>\n",
       "      <td>Sharks of Lost Island</td>\n",
       "      <td>[Documentary]</td>\n",
       "      <td>[NeilGelinas]</td>\n",
       "      <td>[UnitedStates]</td>\n",
       "      <td>[English]</td>\n",
       "      <td>[Sharks, of, Lost, Island]</td>\n",
       "    </tr>\n",
       "    <tr>\n",
       "      <th>16742</th>\n",
       "      <td>16743</td>\n",
       "      <td>Man Among Cheetahs</td>\n",
       "      <td>[Documentary]</td>\n",
       "      <td>[RichardSlater-Jones]</td>\n",
       "      <td>[UnitedStates]</td>\n",
       "      <td>[English]</td>\n",
       "      <td>[Man, Among, Cheetahs]</td>\n",
       "    </tr>\n",
       "    <tr>\n",
       "      <th>16743</th>\n",
       "      <td>16744</td>\n",
       "      <td>In Beaver Valley</td>\n",
       "      <td>[Documentary, Short, Family]</td>\n",
       "      <td>[JamesAlgar]</td>\n",
       "      <td>[UnitedStates]</td>\n",
       "      <td>[English]</td>\n",
       "      <td>[In, Beaver, Valley]</td>\n",
       "    </tr>\n",
       "  </tbody>\n",
       "</table>\n",
       "<p>15677 rows × 7 columns</p>\n",
       "</div>"
      ],
      "text/plain": [
       "          ID                           Title  \\\n",
       "0          1                       Inception   \n",
       "1          2                      The Matrix   \n",
       "2          3          Avengers: Infinity War   \n",
       "3          4              Back to the Future   \n",
       "4          5  The Good, the Bad and the Ugly   \n",
       "...      ...                             ...   \n",
       "16739  16740       The Ghosts of Buxley Hall   \n",
       "16740  16741                  The Poof Point   \n",
       "16741  16742           Sharks of Lost Island   \n",
       "16742  16743              Man Among Cheetahs   \n",
       "16743  16744                In Beaver Valley   \n",
       "\n",
       "                                      Genres                        Directors  \\\n",
       "0      [Action, Adventure, Sci-Fi, Thriller]               [ChristopherNolan]   \n",
       "1                           [Action, Sci-Fi]  [LanaWachowski, LillyWachowski]   \n",
       "2                [Action, Adventure, Sci-Fi]         [AnthonyRusso, JoeRusso]   \n",
       "3                [Adventure, Comedy, Sci-Fi]                 [RobertZemeckis]   \n",
       "4                                  [Western]                    [SergioLeone]   \n",
       "...                                      ...                              ...   \n",
       "16739      [Comedy, Family, Fantasy, Horror]                    [BruceBilson]   \n",
       "16740               [Comedy, Family, Sci-Fi]                     [NealIsrael]   \n",
       "16741                          [Documentary]                    [NeilGelinas]   \n",
       "16742                          [Documentary]            [RichardSlater-Jones]   \n",
       "16743           [Documentary, Short, Family]                     [JamesAlgar]   \n",
       "\n",
       "                             Country                     Language  \\\n",
       "0      [UnitedStates, UnitedKingdom]  [English, Japanese, French]   \n",
       "1                     [UnitedStates]                    [English]   \n",
       "2                     [UnitedStates]                    [English]   \n",
       "3                     [UnitedStates]                    [English]   \n",
       "4        [Italy, Spain, WestGermany]                    [Italian]   \n",
       "...                              ...                          ...   \n",
       "16739                 [UnitedStates]                    [English]   \n",
       "16740                 [UnitedStates]                    [English]   \n",
       "16741                 [UnitedStates]                    [English]   \n",
       "16742                 [UnitedStates]                    [English]   \n",
       "16743                 [UnitedStates]                    [English]   \n",
       "\n",
       "                                Title_feature  \n",
       "0                                 [Inception]  \n",
       "1                               [The, Matrix]  \n",
       "2                  [Avengers:, Infinity, War]  \n",
       "3                     [Back, to, the, Future]  \n",
       "4      [The, Good,, the, Bad, and, the, Ugly]  \n",
       "...                                       ...  \n",
       "16739         [The, Ghosts, of, Buxley, Hall]  \n",
       "16740                      [The, Poof, Point]  \n",
       "16741              [Sharks, of, Lost, Island]  \n",
       "16742                  [Man, Among, Cheetahs]  \n",
       "16743                    [In, Beaver, Valley]  \n",
       "\n",
       "[15677 rows x 7 columns]"
      ]
     },
     "execution_count": 70,
     "metadata": {},
     "output_type": "execute_result"
    }
   ],
   "source": [
    "df2"
   ]
  },
  {
   "cell_type": "code",
   "execution_count": 71,
   "id": "50588a11",
   "metadata": {},
   "outputs": [],
   "source": [
    "df2[\"tags\"] = df2['Genres']+df2['Directors']+df2['Country'] + df2 ['Language']"
   ]
  },
  {
   "cell_type": "code",
   "execution_count": 72,
   "id": "e10d0ad9",
   "metadata": {},
   "outputs": [],
   "source": [
    "# To add title as features of movies\n",
    "#df2[\"tags\"] = df2 ['Title_feature']+df2['Genres']+df2['Directors']+df2['Country'] + df2 ['Language']"
   ]
  },
  {
   "cell_type": "code",
   "execution_count": 73,
   "id": "2db4519e",
   "metadata": {},
   "outputs": [
    {
     "data": {
      "text/html": [
       "<div>\n",
       "<style scoped>\n",
       "    .dataframe tbody tr th:only-of-type {\n",
       "        vertical-align: middle;\n",
       "    }\n",
       "\n",
       "    .dataframe tbody tr th {\n",
       "        vertical-align: top;\n",
       "    }\n",
       "\n",
       "    .dataframe thead th {\n",
       "        text-align: right;\n",
       "    }\n",
       "</style>\n",
       "<table border=\"1\" class=\"dataframe\">\n",
       "  <thead>\n",
       "    <tr style=\"text-align: right;\">\n",
       "      <th></th>\n",
       "      <th>ID</th>\n",
       "      <th>Title</th>\n",
       "      <th>tags</th>\n",
       "    </tr>\n",
       "  </thead>\n",
       "  <tbody>\n",
       "    <tr>\n",
       "      <th>0</th>\n",
       "      <td>1</td>\n",
       "      <td>Inception</td>\n",
       "      <td>[Action, Adventure, Sci-Fi, Thriller, Christop...</td>\n",
       "    </tr>\n",
       "    <tr>\n",
       "      <th>1</th>\n",
       "      <td>2</td>\n",
       "      <td>The Matrix</td>\n",
       "      <td>[Action, Sci-Fi, LanaWachowski, LillyWachowski...</td>\n",
       "    </tr>\n",
       "    <tr>\n",
       "      <th>2</th>\n",
       "      <td>3</td>\n",
       "      <td>Avengers: Infinity War</td>\n",
       "      <td>[Action, Adventure, Sci-Fi, AnthonyRusso, JoeR...</td>\n",
       "    </tr>\n",
       "    <tr>\n",
       "      <th>3</th>\n",
       "      <td>4</td>\n",
       "      <td>Back to the Future</td>\n",
       "      <td>[Adventure, Comedy, Sci-Fi, RobertZemeckis, Un...</td>\n",
       "    </tr>\n",
       "    <tr>\n",
       "      <th>4</th>\n",
       "      <td>5</td>\n",
       "      <td>The Good, the Bad and the Ugly</td>\n",
       "      <td>[Western, SergioLeone, Italy, Spain, WestGerma...</td>\n",
       "    </tr>\n",
       "    <tr>\n",
       "      <th>...</th>\n",
       "      <td>...</td>\n",
       "      <td>...</td>\n",
       "      <td>...</td>\n",
       "    </tr>\n",
       "    <tr>\n",
       "      <th>16739</th>\n",
       "      <td>16740</td>\n",
       "      <td>The Ghosts of Buxley Hall</td>\n",
       "      <td>[Comedy, Family, Fantasy, Horror, BruceBilson,...</td>\n",
       "    </tr>\n",
       "    <tr>\n",
       "      <th>16740</th>\n",
       "      <td>16741</td>\n",
       "      <td>The Poof Point</td>\n",
       "      <td>[Comedy, Family, Sci-Fi, NealIsrael, UnitedSta...</td>\n",
       "    </tr>\n",
       "    <tr>\n",
       "      <th>16741</th>\n",
       "      <td>16742</td>\n",
       "      <td>Sharks of Lost Island</td>\n",
       "      <td>[Documentary, NeilGelinas, UnitedStates, English]</td>\n",
       "    </tr>\n",
       "    <tr>\n",
       "      <th>16742</th>\n",
       "      <td>16743</td>\n",
       "      <td>Man Among Cheetahs</td>\n",
       "      <td>[Documentary, RichardSlater-Jones, UnitedState...</td>\n",
       "    </tr>\n",
       "    <tr>\n",
       "      <th>16743</th>\n",
       "      <td>16744</td>\n",
       "      <td>In Beaver Valley</td>\n",
       "      <td>[Documentary, Short, Family, JamesAlgar, Unite...</td>\n",
       "    </tr>\n",
       "  </tbody>\n",
       "</table>\n",
       "<p>15677 rows × 3 columns</p>\n",
       "</div>"
      ],
      "text/plain": [
       "          ID                           Title  \\\n",
       "0          1                       Inception   \n",
       "1          2                      The Matrix   \n",
       "2          3          Avengers: Infinity War   \n",
       "3          4              Back to the Future   \n",
       "4          5  The Good, the Bad and the Ugly   \n",
       "...      ...                             ...   \n",
       "16739  16740       The Ghosts of Buxley Hall   \n",
       "16740  16741                  The Poof Point   \n",
       "16741  16742           Sharks of Lost Island   \n",
       "16742  16743              Man Among Cheetahs   \n",
       "16743  16744                In Beaver Valley   \n",
       "\n",
       "                                                    tags  \n",
       "0      [Action, Adventure, Sci-Fi, Thriller, Christop...  \n",
       "1      [Action, Sci-Fi, LanaWachowski, LillyWachowski...  \n",
       "2      [Action, Adventure, Sci-Fi, AnthonyRusso, JoeR...  \n",
       "3      [Adventure, Comedy, Sci-Fi, RobertZemeckis, Un...  \n",
       "4      [Western, SergioLeone, Italy, Spain, WestGerma...  \n",
       "...                                                  ...  \n",
       "16739  [Comedy, Family, Fantasy, Horror, BruceBilson,...  \n",
       "16740  [Comedy, Family, Sci-Fi, NealIsrael, UnitedSta...  \n",
       "16741  [Documentary, NeilGelinas, UnitedStates, English]  \n",
       "16742  [Documentary, RichardSlater-Jones, UnitedState...  \n",
       "16743  [Documentary, Short, Family, JamesAlgar, Unite...  \n",
       "\n",
       "[15677 rows x 3 columns]"
      ]
     },
     "execution_count": 73,
     "metadata": {},
     "output_type": "execute_result"
    }
   ],
   "source": [
    "df3 = df2[['ID','Title','tags']]\n",
    "df3"
   ]
  },
  {
   "cell_type": "code",
   "execution_count": 74,
   "id": "a19bdae2",
   "metadata": {},
   "outputs": [],
   "source": [
    "def join_list(x):\n",
    "    return \" \".join(x)"
   ]
  },
  {
   "cell_type": "code",
   "execution_count": 75,
   "id": "2dc836d4",
   "metadata": {},
   "outputs": [
    {
     "name": "stdout",
     "output_type": "stream",
     "text": [
      "Action Adventure Sci-Fi Thriller\n"
     ]
    }
   ],
   "source": [
    "x = ['Action', 'Adventure', 'Sci-Fi', 'Thriller'] \n",
    "print(join_list(x))"
   ]
  },
  {
   "cell_type": "code",
   "execution_count": 76,
   "id": "f2e0d541",
   "metadata": {},
   "outputs": [
    {
     "data": {
      "text/plain": [
       "(15677, 3)"
      ]
     },
     "execution_count": 76,
     "metadata": {},
     "output_type": "execute_result"
    }
   ],
   "source": [
    "df3.shape"
   ]
  },
  {
   "cell_type": "code",
   "execution_count": 77,
   "id": "2519ed5f",
   "metadata": {},
   "outputs": [
    {
     "name": "stderr",
     "output_type": "stream",
     "text": [
      "/var/folders/yn/bb4yp_pj2p5742vtvn9nw0980000gn/T/ipykernel_30214/1242304903.py:1: SettingWithCopyWarning: \n",
      "A value is trying to be set on a copy of a slice from a DataFrame.\n",
      "Try using .loc[row_indexer,col_indexer] = value instead\n",
      "\n",
      "See the caveats in the documentation: https://pandas.pydata.org/pandas-docs/stable/user_guide/indexing.html#returning-a-view-versus-a-copy\n",
      "  df3['tags']=df3['tags'].apply(join_list)\n"
     ]
    }
   ],
   "source": [
    "df3['tags']=df3['tags'].apply(join_list)"
   ]
  },
  {
   "cell_type": "code",
   "execution_count": 78,
   "id": "9af2a3ac",
   "metadata": {},
   "outputs": [
    {
     "data": {
      "text/plain": [
       "'Action Adventure Sci-Fi Thriller ChristopherNolan UnitedStates UnitedKingdom English Japanese French'"
      ]
     },
     "execution_count": 78,
     "metadata": {},
     "output_type": "execute_result"
    }
   ],
   "source": [
    "df3['tags'][0]"
   ]
  },
  {
   "cell_type": "markdown",
   "id": "9eaa0d9b",
   "metadata": {},
   "source": [
    "## Text to Vector"
   ]
  },
  {
   "cell_type": "code",
   "execution_count": 79,
   "id": "4d272e46",
   "metadata": {},
   "outputs": [
    {
     "data": {
      "text/plain": [
       "(15677, 6000)"
      ]
     },
     "execution_count": 79,
     "metadata": {},
     "output_type": "execute_result"
    }
   ],
   "source": [
    "cv = CountVectorizer(max_features=6000,stop_words='english')\n",
    "vector = cv.fit_transform(df3['tags']).toarray()\n",
    "vector.shape"
   ]
  },
  {
   "cell_type": "code",
   "execution_count": 80,
   "id": "a2c4ba54",
   "metadata": {},
   "outputs": [
    {
     "name": "stdout",
     "output_type": "stream",
     "text": [
      "[[0 0 0 ... 0 0 0]\n",
      " [0 0 0 ... 0 0 0]\n",
      " [0 0 0 ... 0 0 0]\n",
      " ...\n",
      " [0 0 0 ... 0 0 0]\n",
      " [0 0 0 ... 0 0 0]\n",
      " [0 0 0 ... 0 0 0]]\n"
     ]
    }
   ],
   "source": [
    "print(vector)"
   ]
  },
  {
   "cell_type": "markdown",
   "id": "a71701c2",
   "metadata": {},
   "source": [
    "## Cosine Similarity"
   ]
  },
  {
   "cell_type": "code",
   "execution_count": 81,
   "id": "a94bd0ab",
   "metadata": {},
   "outputs": [
    {
     "data": {
      "text/plain": [
       "array([[0.99977922]])"
      ]
     },
     "execution_count": 81,
     "metadata": {},
     "output_type": "execute_result"
    }
   ],
   "source": [
    "array_vec_1 = np.array([[40,11,14,11,11]])\n",
    "array_vec_2 = np.array([[40,10,14,11,11]])\n",
    "cosine_similarity(array_vec_1,array_vec_2)"
   ]
  },
  {
   "cell_type": "code",
   "execution_count": 82,
   "id": "6750b3ab",
   "metadata": {},
   "outputs": [
    {
     "data": {
      "text/plain": [
       "array([[1.        , 0.56980288, 0.63960215, ..., 0.30151134, 0.30151134,\n",
       "        0.24618298],\n",
       "       [0.56980288, 1.        , 0.6681531 , ..., 0.37796447, 0.37796447,\n",
       "        0.3086067 ],\n",
       "       [0.63960215, 0.6681531 , 1.        , ..., 0.35355339, 0.35355339,\n",
       "        0.28867513],\n",
       "       ...,\n",
       "       [0.30151134, 0.37796447, 0.35355339, ..., 1.        , 0.75      ,\n",
       "        0.61237244],\n",
       "       [0.30151134, 0.37796447, 0.35355339, ..., 0.75      , 1.        ,\n",
       "        0.61237244],\n",
       "       [0.24618298, 0.3086067 , 0.28867513, ..., 0.61237244, 0.61237244,\n",
       "        1.        ]])"
      ]
     },
     "execution_count": 82,
     "metadata": {},
     "output_type": "execute_result"
    }
   ],
   "source": [
    "similarity = cosine_similarity(vector)\n",
    "similarity"
   ]
  },
  {
   "cell_type": "code",
   "execution_count": 83,
   "id": "89b9da99",
   "metadata": {},
   "outputs": [
    {
     "data": {
      "text/plain": [
       "0"
      ]
     },
     "execution_count": 83,
     "metadata": {},
     "output_type": "execute_result"
    }
   ],
   "source": [
    "index = df3[df3['Title'] == \"Inception\"].index[0]\n",
    "index"
   ]
  },
  {
   "cell_type": "markdown",
   "id": "efab14e5",
   "metadata": {},
   "source": [
    "## Recommend Function"
   ]
  },
  {
   "cell_type": "code",
   "execution_count": 84,
   "id": "9daa9be9",
   "metadata": {},
   "outputs": [],
   "source": [
    "def recommend(movie):\n",
    "    index = df3[df3['Title'] == movie].index[0]\n",
    "    distances = sorted(list(enumerate(similarity[index])),reverse=True,key = lambda x: x[1])\n",
    "    for i in distances[1:11]:\n",
    "        print(df3.iloc[i[0]].Title)\n",
    "        "
   ]
  },
  {
   "cell_type": "code",
   "execution_count": 86,
   "id": "af5f6efd",
   "metadata": {},
   "outputs": [
    {
     "name": "stdout",
     "output_type": "stream",
     "text": [
      "Tomorrow\n",
      "Star Trek: Insurrection\n",
      "Arcadia\n",
      "Independents' Day\n",
      "Super Cyclone\n",
      "Godzilla\n",
      "Doom: Annihilation\n",
      "Captain America: The Winter Soldier\n",
      "Zombie Apocalypse\n",
      "10.0 Earthquake\n"
     ]
    }
   ],
   "source": [
    "recommend(\"Inception\")"
   ]
  },
  {
   "cell_type": "code",
   "execution_count": null,
   "id": "10824c60",
   "metadata": {},
   "outputs": [],
   "source": []
  },
  {
   "cell_type": "markdown",
   "id": "7360a53b",
   "metadata": {},
   "source": [
    "## Dump Model"
   ]
  },
  {
   "cell_type": "code",
   "execution_count": 88,
   "id": "9207dfe7",
   "metadata": {},
   "outputs": [],
   "source": [
    "pickle.dump(df,open('Model/movies.pkl','wb'))\n",
    "pickle.dump(similarity,open('Model/similarity.pkl','wb'))"
   ]
  },
  {
   "cell_type": "code",
   "execution_count": null,
   "id": "4dbb0975",
   "metadata": {},
   "outputs": [],
   "source": []
  },
  {
   "cell_type": "code",
   "execution_count": null,
   "id": "18466133",
   "metadata": {},
   "outputs": [],
   "source": []
  }
 ],
 "metadata": {
  "kernelspec": {
   "display_name": "Python 3 (ipykernel)",
   "language": "python",
   "name": "python3"
  },
  "language_info": {
   "codemirror_mode": {
    "name": "ipython",
    "version": 3
   },
   "file_extension": ".py",
   "mimetype": "text/x-python",
   "name": "python",
   "nbconvert_exporter": "python",
   "pygments_lexer": "ipython3",
   "version": "3.9.12"
  },
  "vscode": {
   "interpreter": {
    "hash": "31f2aee4e71d21fbe5cf8b01ff0e069b9275f58929596ceb00d14d90e3e16cd6"
   }
  }
 },
 "nbformat": 4,
 "nbformat_minor": 5
}
